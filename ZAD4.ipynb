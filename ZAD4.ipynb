{
  "nbformat": 4,
  "nbformat_minor": 0,
  "metadata": {
    "colab": {
      "provenance": []
    },
    "kernelspec": {
      "name": "python3",
      "display_name": "Python 3"
    },
    "language_info": {
      "name": "python"
    }
  },
  "cells": [
    {
      "cell_type": "code",
      "execution_count": null,
      "metadata": {
        "id": "hTI-tOI95_Je"
      },
      "outputs": [],
      "source": [
        "#### Przykladowe zapytania\n",
        "droga(miastoA, miastoB), np. droga(lublin, warszawa)\n",
        "czas_przejazdu(miastoA, miastoB, T), np. czas_przejazdu(lublin, warszawa, T)\n",
        "najkrotsza_trasa(miastoA, miastoB), np. najkrotsza_trasa(lublin, warszawa)\n",
        "\n",
        "\n",
        "% Fakty dotyczące miast\n",
        "miasto(lublin).\n",
        "miasto(warszawa).\n",
        "miasto(krakow).\n",
        "miasto(poznan).\n",
        "miasto(gdynia).\n",
        "miasto(gdansk).\n",
        "miasto(zamosc).\n",
        "miasto(krasnystaw).\n",
        "\n",
        "% Fakty dotyczące połączeń (miasto1, miasto2, czas przejazdu)\n",
        "droga(lublin, warszawa, 6).\n",
        "droga(krakow, poznan, 3).\n",
        "droga(gdynia, gdansk, 7).\n",
        "droga(krasnystaw, lublin, 3).\n",
        "droga(poznan, warszawa, 7).\n",
        "droga(gdynia, zamosc, 6).\n",
        "droga(krasnystaw, zamosc, 2).\n",
        "droga(gdansk, lublin, 7).\n",
        "droga(lublin, zamosc, 5).\n",
        "\n",
        "% Sprawdza, czy istnieje bezpośrednie połączenie drogowe między miastem X a Y (symetrycznie)\n",
        "droga(X, Y) :- droga(X, Y, _).\n",
        "droga(X, Y) :- droga(Y, X, _).\n",
        "\n",
        "\n",
        "% Określa czas przejazdu między miastem X a Y\n",
        "czas_przejazdu(X, Y, T) :- droga(X, Y, T).\n",
        "czas_przejazdu(X, Y, T) :-\n",
        "    droga(X, Z, T1),\n",
        "    czas_przejazdu(Z, Y, T2), % rekurencyjnie obliczany czas przejazdu z Z do Y wynosi T2\n",
        "    T is T1 + T2. %  laczny czas przejazdu to suma obu odcinkow\n",
        "\n",
        "% Wyznaczanie najkrótszej trasy\n",
        "najkrotsza_trasa(X, Y) :-\n",
        "    findall(T, czas_przejazdu(X, Y, T), CzasList), %findall szuka wszystkich mozliwych rozwiazan\n",
        "    min_list(CzasList, NajkrotszyCzas), %sluzy do znalezienia najmniejszego elementu na liscie\n",
        "    format('Najkrótszy czas przejazdu z ~w do ~w to ~w godzin.', [X, Y, NajkrotszyCzas])."
      ]
    }
  ]
}