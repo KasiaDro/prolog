{
  "nbformat": 4,
  "nbformat_minor": 0,
  "metadata": {
    "colab": {
      "provenance": []
    },
    "kernelspec": {
      "name": "python3",
      "display_name": "Python 3"
    },
    "language_info": {
      "name": "python"
    }
  },
  "cells": [
    {
      "cell_type": "code",
      "execution_count": null,
      "metadata": {
        "id": "hTI-tOI95_Je"
      },
      "outputs": [],
      "source": [
        "%Fakty\n",
        "\n",
        "ojciec(tadek, karolina).\n",
        "ojciec(tadek, jurek).\n",
        "ojciec(tadek, wiesio).\n",
        "ojciec(lucyn, ofelia).\n",
        "ojciec(lucyn, petunia).\n",
        "ojciec(rafal, maniek).\n",
        "\n",
        "matka(ofelia, karolina).\n",
        "matka(ofelia, jurek).\n",
        "matka(ofelia, wiesio).\n",
        "matka(wanda, ofelia).\n",
        "matka(wanda, petunia).\n",
        "matka(petunia, maniek).\n",
        "\n",
        "\n",
        "malzenstwo(tadek, ofelia).\n",
        "malzenstwo(lucyn, wanda).\n",
        "malzenstwo(rafal, petunia).\n",
        "\n",
        "kobieta(wanda).\n",
        "kobieta(ofelia).\n",
        "kobieta(petunia).\n",
        "kobieta(karolina).\n",
        "\n",
        "mezczyzna(lucyn).\n",
        "mezczyzna(tadek).\n",
        "mezczyzna(rafal).\n",
        "mezczyzna(jurek).\n",
        "mezczyzna(wiesio).\n",
        "mezczyzna(maniek).\n",
        "\n",
        "% Rodzic\n",
        "rodzic(X, Y) :- ojciec(X, Y).\n",
        "rodzic(X, Y) :- matka(X, Y).\n",
        "\n",
        "% Przodkowie\n",
        "\n",
        "przodek(X, Y) :- ojciec(X, Y).\n",
        "przodek(X, Y) :- matka(X, Y).\n",
        "przodek(X, Y) :- ojciec(X, Z), przodek(Z, Y).\n",
        "przodek(X, Y) :- matka(X, Z), przodek(Z, Y).\n",
        "\n",
        "% Rodzenstwo\n",
        "rodzenstwo(X, Y) :- rodzic(Z, X), rodzic(Z, Y), X \\= Y.\n",
        "\n",
        "% Siostra\n",
        "siostra(X, Y) :- kobieta(X), rodzic(Z, X), rodzic(Z, Y), X \\= Y.\n",
        "\n",
        "% Brat\n",
        "brat(X, Y) :- mezczyzna(X), rodzic(Z, X), rodzic(Z, Y), X \\= Y.\n",
        "\n",
        "% Kuzyn\n",
        "kuzyn(X, Y) :- ojciec(Z, X), ojciec(W, Y), (brat(Z, W); siostra(Z, W)).\n",
        "kuzyn(X, Y) :- matka(Z, X), matka(W, Y), (brat(Z, W); siostra(Z, W)).\n",
        "\n"
      ]
    }
  ]
}