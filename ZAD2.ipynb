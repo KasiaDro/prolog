{
  "nbformat": 4,
  "nbformat_minor": 0,
  "metadata": {
    "colab": {
      "provenance": []
    },
    "kernelspec": {
      "name": "python3",
      "display_name": "Python 3"
    },
    "language_info": {
      "name": "python"
    }
  },
  "cells": [
    {
      "cell_type": "code",
      "execution_count": null,
      "metadata": {
        "id": "hTI-tOI95_Je"
      },
      "outputs": [],
      "source": [
        "#### Przykladowe zapytania\n",
        "bezposrednie(lotniskoA, lotniskoB) np. bezposrednie(krakow, rzeszow)\n",
        "koszt(lotniskoA, lotniskoB, C) np. koszt(krakow, rzeszow, C)\n",
        "najkrotsza(lotniskoA, lotniskoB) np. najkrotsza(krakow, rzeszow)\n",
        "\n",
        "\n",
        "% fakty\n",
        "lotnisko(lublin).\n",
        "lotnisko(warszawa).\n",
        "lotnisko(krakow).\n",
        "lotnisko(gdansk).\n",
        "lotnisko(rzeszow).\n",
        "lotnisko(poznan).\n",
        "\n",
        "polaczenie(lublin, gdansk, 500).\n",
        "polaczenie(lublin, gdansk, 200).\n",
        "polaczenie(warszawa, poznan, 300).\n",
        "polaczenie(warszawa, poznan, 3020).\n",
        "polaczenie(krakow, rzeszow, 550).\n",
        "polaczenie(krakow, rzeszow, 5510).\n",
        "\n",
        "% sprawdza, czy istnieje bezposrednie polaczenie od X do Y. Dodanie _ oznacza, ze 3 wartosc nie ma w tym przypadku znaczenia\n",
        "bezposrednie(X, Y) :- polaczenie(X, Y, _).\n",
        "bezposrednie(X, Y) :- polaczenie(Y, X, _).\n",
        "\n",
        "% sprawdza koszt polaczenia\n",
        "koszt(X, Y, C) :- polaczenie(X, Y, C).\n",
        "koszt(X, Y, C) :- polaczenie(Y, X, C).\n",
        "\n",
        "% znajduje najkrotsze polaczenie.\n",
        "najkrotsza(X, Y) :-\n",
        "  findall(C, koszt(X, Y, C), Cena), %findall szuka wszystkich mozliwych rozwiazan\n",
        "  (Cena = [] -> format('Lot z ~w do ~w nie istnieje.', [X, Y]), fail; %fail konczy regule i zwraca false, -> to warunek, jesli cena jest rowna pustej liscie wtedy fail\n",
        "  min_list(Cena, MinCena), %sluzy do znalezienia najmniejszego elementu na liscie\n",
        "  format('Najkrótsza droga z ~w do ~w kosztuje ~w.', [X, Y, MinCena]))."
      ]
    }
  ]
}