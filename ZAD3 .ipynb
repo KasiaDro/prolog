{
  "nbformat": 4,
  "nbformat_minor": 0,
  "metadata": {
    "colab": {
      "provenance": []
    },
    "kernelspec": {
      "name": "python3",
      "display_name": "Python 3"
    },
    "language_info": {
      "name": "python"
    }
  },
  "cells": [
    {
      "cell_type": "code",
      "execution_count": null,
      "metadata": {
        "id": "hTI-tOI95_Je"
      },
      "outputs": [],
      "source": [
        "#### Przykladowe zapytania\n",
        "dostepny_produkt(produkt) np. dostepny_produkt(tv)\n",
        "przenies_produkt(produkt, sektor_X) np. przenies_produkt(tv, sektor_b)\n",
        "uzupelnij_stan(produkt, liczba) np. uzupelnij_stan(tv, 5)\n",
        "\n",
        "\n",
        ":- dynamic produkt/3. %produkty sa dynamiczne, ulegaja zmianom\n",
        "\n",
        "% fakty\n",
        "produkt(tv, 1, sektor_a).\n",
        "produkt(koc, 5, sektor_b).\n",
        "produkt(czajnik, 3, sektor_c).\n",
        "produkt(ladowarka, 70, sektor_d).\n",
        "produkt(klawiatura, 21, sektor_a).\n",
        "produkt(miska, 30, sektor_c).\n",
        "produkt(sztucce, 50, sektor_e).\n",
        "produkt(wykladzina, 2, sektor_f).\n",
        "produkt(monitor, 0, sektor_g).\n",
        "\n",
        "\n",
        "% dostep\n",
        "dostepny_produkt(X) :-\n",
        "    produkt(X, Ilosc, _),\n",
        "    Ilosc > 0,\n",
        "    format('Produkt ~w jest dostępny w ilości ~w', [X, Ilosc]).\n",
        "\n",
        "% przenies\n",
        "przenies_produkt(X, Y) :-\n",
        "    produkt(X, Ilosc, _),\n",
        "    retract(produkt(X, Ilosc, DanySektor)), %retract usuwa fakt z bazy\n",
        "    assertz(produkt(X, Ilosc, Y)), %assertz dodaje nowy fakt\n",
        "    format('Produkt ~w zostal przeniesiony z ~w do ~w', [X, DanySektor, Y]).\n",
        "\n",
        "% uzupelnienie\n",
        "uzupelnij_stan(X, N) :-\n",
        "    produkt(X, Ilosc, DanySektor),\n",
        "    N > 0, %sprawdza czy liczba dodawana jest wieksza od 0\n",
        "    NowaIlosc is Ilosc + N, %definiuje ze nowailosc to suma ilosci i wprowadzonej liczby\n",
        "    retract(produkt(X, Ilosc, DanySektor)), %retract usuwa fakt z bazy\n",
        "    assertz(produkt(X, NowaIlosc, DanySektor)), %assertz dodaje nowy fakt\n",
        "    format('Stan produktu ~w zostal uzupelniony do ~d', [X, NowaIlosc])."
      ]
    }
  ]
}